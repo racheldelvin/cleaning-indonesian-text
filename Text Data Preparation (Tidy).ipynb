{
 "cells": [
  {
   "cell_type": "markdown",
   "metadata": {},
   "source": [
    "# Text Data Preparation \n",
    "\n",
    "## Plot:\n",
    "1. Convert all string to into lowercases\n",
    "2. Tokenization\n",
    "3. Filter nonstandard Indonesian words with Kamus Alay\n",
    "4. Convert back to string\n",
    "5. Normalize words (removing punctuation, non-ascii, whitespaces, etc)\n",
    "6. Translate to english using Google Translate\n",
    "7. Normalize words\n",
    "8. Tokenization -> **Output with stopwords**\n",
    "9. Convert back to string\n",
    "10. Lemmatization and remove stopwords using Spacy -> **Ouput without stopwords**"
   ]
  },
  {
   "cell_type": "code",
   "execution_count": null,
   "metadata": {},
   "outputs": [],
   "source": [
    "import re\n",
    "import string\n",
    "from nltk.tokenize import word_tokenize\n",
    "from googletrans import Translator\n",
    "\n",
    "#Google translate\n",
    "#Google translate API allows 5 calls/s -> error is expected\n",
    "translator = Translator()\n",
    "translator.raise_Exception = True\n",
    "\n",
    "#Get kamus alay dictionary\n",
    "standard_id_word = pd.read_csv(\"new_kamusalay.csv\")\n",
    "standard_id_word_dict = {}\n",
    "\n",
    "for index, row in standard_id_word.iterrows():\n",
    "    if row[0] not in standard_id_word_dict:\n",
    "        standard_id_word_dict[row[0]] = row[1]"
   ]
  },
  {
   "cell_type": "markdown",
   "metadata": {},
   "source": [
    "## Preprocessing steps"
   ]
  },
  {
   "cell_type": "code",
   "execution_count": null,
   "metadata": {},
   "outputs": [],
   "source": [
    "def get_lowercase_text(df):\n",
    "    review_column = 'content'\n",
    "    df['string_text'] = df['{}'.format(review_column)].str.lower()\n",
    "    return df\n",
    "    \n",
    "def tokenize_text(text):\n",
    "    return word_tokenize(text)\n",
    "    \n",
    "def get_tokenized_text(df):\n",
    "    df['token'] = df['string_text'].apply(tokenize_text)\n",
    "    return df\n",
    "\n",
    "def standardize_text(text):\n",
    "    return [standard_id_word_dict[term] if term in standard_id_word_dict else term for term in text]\n",
    "    \n",
    "def get_standardized_text(df):\n",
    "    df['standardized_token'] = df['token'].apply(standardize_text)\n",
    "    return df\n",
    "    \n",
    "def get_string(df):\n",
    "    df['standardized_string'] = [' '.join(map(str, l)) for l in df['standardized_token']]\n",
    "    return df\n",
    "    \n",
    "def normalize_text(text):\n",
    "    \n",
    "    text = re.sub(r\"can't\", \"cannot \", text)\n",
    "    text = re.sub(r\"cant\", \"cannot \", text)\n",
    "    text = re.sub(r\"what's\", \"what is \", text)\n",
    "    text = re.sub(r\"i'm\", \"i am \", text)\n",
    "    text = re.sub(r\"\\'s\", \" is \", text)\n",
    "    text = re.sub(r\"\\'ve\", \" have \", text)\n",
    "    text = re.sub(r\"n't\", \" not \", text)\n",
    "    text = re.sub(r\"\\'re\", \" are \", text)\n",
    "    text = re.sub(r\"\\'d\", \" would \", text)\n",
    "    text = re.sub(r\"\\'ll\", \" will \", text)\n",
    "    text = text.encode('ascii', 'replace').decode('ascii')\n",
    "    text = re.sub(r\"\\d+\", \"\", text)\n",
    "    text = text.translate(str.maketrans(\"\",\"\",string.punctuation))\n",
    "    text = re.sub('\\s+',' ',text)\n",
    "    text = text.strip()\n",
    "        \n",
    "    return text\n",
    "    \n",
    "def get_normalized_text(df):\n",
    "    df['normalized_text'] = df['standardized_string'].apply(normalize_text)\n",
    "    return df\n",
    "    \n",
    "def get_translated_text(df):\n",
    "    df['en_with_stopwords'] = df['normalized_text'].apply(translator.translate, dest='en').apply(getattr, args=('text',))\n",
    "    return df\n",
    "    \n",
    "def get_normalized_en_with_stopwords(df):\n",
    "    df['normalized_en_with_stopwords'] = df['en_with_stopwords'].apply(normalize_text)\n",
    "    return df\n",
    "    \n",
    "def get_tokenized_en_with_stopwords(df):\n",
    "    df['en_token_with_stopwords'] = df['normalized_en_with_stopwords'].apply(tokenize_text)\n",
    "    return df\n",
    "    \n",
    "def get_en_string(df):\n",
    "    df['en_string_with_stopwords'] = [' '.join(map(str, l)) for l in df['en_token_with_stopwords']]\n",
    "    return df\n",
    "    \n",
    "def __get_lemmas(text):\n",
    "    nlp = spacy.load('en_core_web_lg')\n",
    "    lemmas = []\n",
    "    doc = nlp(text)\n",
    "\n",
    "    for token in doc: \n",
    "        if ((token.is_stop == False) and (token.is_punct == False)) and (token.pos_ != 'PRON'):\n",
    "            lemmas.append(token.lemma_)\n",
    "    return lemmas\n",
    "    \n",
    "def get_text_without_stopwords(df):\n",
    "    df['en_token_without_stopwords'] = df['en_string_with_stopwords'].apply(__get_lemmas)\n",
    "    return df"
   ]
  },
  {
   "cell_type": "markdown",
   "metadata": {},
   "source": [
    "## Compiling all preprocessing steps"
   ]
  },
  {
   "cell_type": "code",
   "execution_count": null,
   "metadata": {},
   "outputs": [],
   "source": [
    "def preprocess(df):\n",
    "    df = get_lowercase_text(df)\n",
    "    df = get_tokenized_text(df)\n",
    "    df = get_standardized_text(df)\n",
    "    df = get_string(df)\n",
    "    df = get_normalized_text(df)\n",
    "    df = get_translated_text(df)\n",
    "    df = get_normalized_en_with_stopwords(df)\n",
    "    df = get_tokenized_en_with_stopwords(df)\n",
    "    df = get_en_string(df)\n",
    "    df = get_text_without_stopwords(df)\n",
    "    return df"
   ]
  },
  {
   "cell_type": "code",
   "execution_count": null,
   "metadata": {},
   "outputs": [],
   "source": [
    "df = pd.read_csv('PlayStoreReview.csv')"
   ]
  },
  {
   "cell_type": "code",
   "execution_count": null,
   "metadata": {},
   "outputs": [],
   "source": [
    "df = preprocess(df)"
   ]
  }
 ],
 "metadata": {
  "kernelspec": {
   "display_name": "Python 3",
   "language": "python",
   "name": "python3"
  },
  "language_info": {
   "codemirror_mode": {
    "name": "ipython",
    "version": 3
   },
   "file_extension": ".py",
   "mimetype": "text/x-python",
   "name": "python",
   "nbconvert_exporter": "python",
   "pygments_lexer": "ipython3",
   "version": "3.8.3"
  }
 },
 "nbformat": 4,
 "nbformat_minor": 5
}
